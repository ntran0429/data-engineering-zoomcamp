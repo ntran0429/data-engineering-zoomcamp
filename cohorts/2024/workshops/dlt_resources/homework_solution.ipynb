{
  "cells": [
    {
      "cell_type": "markdown",
      "metadata": {
        "id": "mrTFv5nPClXh"
      },
      "source": [
        "# **Homework**: Data talks club data engineering zoomcamp Data loading workshop\n",
        "\n",
        "Hello folks, let's practice what we learned - Loading data with the best practices of data engineering.\n",
        "\n",
        "Here are the exercises we will do\n",
        "\n",
        "\n"
      ]
    },
    {
      "cell_type": "markdown",
      "metadata": {
        "id": "wLF4iXf-NR7t"
      },
      "source": [
        "# 1. Use a generator\n",
        "\n",
        "Remember the concept of generator? Let's practice using them to futher our understanding of how they work.\n",
        "\n",
        "Let's define a generator and then run it as practice.\n",
        "\n",
        "**Answer the following questions:**\n",
        "\n",
        "- **Question 1: What is the sum of the outputs of the generator for limit = 5?**\n",
        "- **Question 2: What is the 13th number yielded**\n",
        "\n",
        "I suggest practicing these questions without GPT as the purpose is to further your learning."
      ]
    },
    {
      "cell_type": "code",
      "execution_count": 1,
      "metadata": {
        "colab": {
          "base_uri": "https://localhost:8080/"
        },
        "id": "wLng-bDJN4jf",
        "outputId": "547683cb-5f56-4815-a903-d0d9578eb1f9"
      },
      "outputs": [
        {
          "name": "stdout",
          "output_type": "stream",
          "text": [
            "1.0\n",
            "1.4142135623730951\n",
            "1.7320508075688772\n",
            "2.0\n",
            "2.23606797749979\n"
          ]
        }
      ],
      "source": [
        "def square_root_generator(limit):\n",
        "    n = 1\n",
        "    while n <= limit:\n",
        "        yield n ** 0.5\n",
        "        n += 1\n",
        "\n",
        "# Example usage:\n",
        "limit = 5\n",
        "generator = square_root_generator(limit)\n",
        "\n",
        "for sqrt_value in generator:\n",
        "    print(sqrt_value)\n"
      ]
    },
    {
      "cell_type": "markdown",
      "metadata": {
        "id": "xbe3q55zN43j"
      },
      "source": []
    },
    {
      "cell_type": "markdown",
      "metadata": {
        "id": "vjWhILzGJMpK"
      },
      "source": [
        "# 2. Append a generator to a table with existing data\n",
        "\n",
        "\n",
        "Below you have 2 generators. You will be tasked to load them to duckdb and answer some questions from the data\n",
        "\n",
        "1. Load the first generator and calculate the sum of ages of all people. Make sure to only load it once.\n",
        "2. Append the second generator to the same table as the first.\n",
        "3. **After correctly appending the data, calculate the sum of all ages of people.**\n",
        "\n",
        "\n"
      ]
    },
    {
      "cell_type": "code",
      "execution_count": 2,
      "metadata": {
        "colab": {
          "base_uri": "https://localhost:8080/"
        },
        "id": "2MoaQcdLBEk6",
        "outputId": "d2b93dc1-d83f-44ea-aeff-fdf51d75f7aa"
      },
      "outputs": [
        {
          "name": "stdout",
          "output_type": "stream",
          "text": [
            "{'ID': 1, 'Name': 'Person_1', 'Age': 26, 'City': 'City_A'}\n",
            "{'ID': 2, 'Name': 'Person_2', 'Age': 27, 'City': 'City_A'}\n",
            "{'ID': 3, 'Name': 'Person_3', 'Age': 28, 'City': 'City_A'}\n",
            "{'ID': 4, 'Name': 'Person_4', 'Age': 29, 'City': 'City_A'}\n",
            "{'ID': 5, 'Name': 'Person_5', 'Age': 30, 'City': 'City_A'}\n",
            "{'ID': 3, 'Name': 'Person_3', 'Age': 33, 'City': 'City_B', 'Occupation': 'Job_3'}\n",
            "{'ID': 4, 'Name': 'Person_4', 'Age': 34, 'City': 'City_B', 'Occupation': 'Job_4'}\n",
            "{'ID': 5, 'Name': 'Person_5', 'Age': 35, 'City': 'City_B', 'Occupation': 'Job_5'}\n",
            "{'ID': 6, 'Name': 'Person_6', 'Age': 36, 'City': 'City_B', 'Occupation': 'Job_6'}\n",
            "{'ID': 7, 'Name': 'Person_7', 'Age': 37, 'City': 'City_B', 'Occupation': 'Job_7'}\n",
            "{'ID': 8, 'Name': 'Person_8', 'Age': 38, 'City': 'City_B', 'Occupation': 'Job_8'}\n"
          ]
        }
      ],
      "source": [
        "def people_1():\n",
        "    for i in range(1, 6):\n",
        "        yield {\"ID\": i, \"Name\": f\"Person_{i}\", \"Age\": 25 + i, \"City\": \"City_A\"}\n",
        "\n",
        "for person in people_1():\n",
        "    print(person)\n",
        "\n",
        "\n",
        "def people_2():\n",
        "    for i in range(3, 9):\n",
        "        yield {\"ID\": i, \"Name\": f\"Person_{i}\", \"Age\": 30 + i, \"City\": \"City_B\", \"Occupation\": f\"Job_{i}\"}\n",
        "\n",
        "\n",
        "for person in people_2():\n",
        "    print(person)\n"
      ]
    },
    {
      "cell_type": "markdown",
      "metadata": {
        "id": "vtdTIm4fvQCN"
      },
      "source": []
    },
    {
      "cell_type": "markdown",
      "metadata": {
        "id": "pY4cFAWOSwN1"
      },
      "source": [
        "# 3. Merge a generator\n",
        "\n",
        "Re-use the generators from Exercise 2.\n",
        "\n",
        "A table's primary key needs to be created from the start, so load your data to a new table with primary key ID.\n",
        "\n",
        "Load your first generator first, and then load the second one with merge. Since they have overlapping IDs, some of the records from the first load should be replaced by the ones from the second load.\n",
        "\n",
        "After loading, you should have a total of 8 records, and ID 3 should have age 33.\n",
        "\n",
        "Question: **Calculate the sum of ages of all the people loaded as described above.**\n"
      ]
    },
    {
      "cell_type": "markdown",
      "metadata": {
        "id": "kKB2GTB9oVjr"
      },
      "source": [
        "# Solution: First make sure that the following modules are installed:"
      ]
    },
    {
      "cell_type": "code",
      "execution_count": 3,
      "metadata": {
        "id": "xTVvtyqrfVNq"
      },
      "outputs": [],
      "source": [
        "#Install the dependencies\n",
        "# %capture\n",
        "# %pip install dlt[duckdb]"
      ]
    },
    {
      "cell_type": "markdown",
      "metadata": {
        "id": "kUG4DNYGb5dF"
      },
      "source": [
        "# Solutions\n",
        "\n",
        "You can use these solutions to self check your results, or to check how the answer can be obtained if you get stuck."
      ]
    },
    {
      "cell_type": "markdown",
      "metadata": {
        "id": "ks6Sh_jBJWdh"
      },
      "source": [
        "\n",
        "\n",
        "\n",
        "\n"
      ]
    },
    {
      "cell_type": "markdown",
      "metadata": {
        "id": "U61tgQaYb8Yt"
      },
      "source": [
        "## Solution 1"
      ]
    },
    {
      "cell_type": "code",
      "execution_count": 4,
      "metadata": {
        "colab": {
          "base_uri": "https://localhost:8080/"
        },
        "id": "Roc3y_lSTSfn",
        "outputId": "f03d348e-cdfa-44d0-e5f2-276db6af1cf5"
      },
      "outputs": [
        {
          "name": "stdout",
          "output_type": "stream",
          "text": [
            "The sum of the outputs for limit=5 is: 8.382332347441762\n",
            "The 13th number yielded is: 3.605551275463989\n"
          ]
        }
      ],
      "source": [
        "def sum_of_generator_outputs(generator, limit):\n",
        "    return sum(next(generator) for _ in range(limit))\n",
        "\n",
        "# Example usage:\n",
        "limit_1 = 5\n",
        "generator_1 = square_root_generator(limit_1)\n",
        "result_1 = sum_of_generator_outputs(generator_1, limit_1)\n",
        "print(f\"The sum of the outputs for limit={limit_1} is: {result_1}\")\n",
        "\n",
        "\n",
        "def nth_yielded_number(generator, n):\n",
        "    for _ in range(n - 1):\n",
        "        next(generator)\n",
        "    return next(generator)\n",
        "\n",
        "# Example usage:\n",
        "n = 13\n",
        "generator_2 = square_root_generator(n)\n",
        "result_2 = nth_yielded_number(generator_2, n)\n",
        "print(f\"The {n}th number yielded is: {result_2}\")\n"
      ]
    },
    {
      "cell_type": "markdown",
      "metadata": {
        "id": "M3PJYca2TIw8"
      },
      "source": [
        "## Solution 2: Append a generator\n",
        "\n",
        "Load your first generator first, and then load the second one using the \"append\" operation. Since they have overlapping IDs, some records will appear multiple times.\n",
        "\n",
        "After loading, you should have a total of 11 records.\n",
        "\n",
        "Question: Calculate the sum of ages of all the people loaded as described above"
      ]
    },
    {
      "cell_type": "code",
      "execution_count": 5,
      "metadata": {
        "colab": {
          "base_uri": "https://localhost:8080/",
          "height": 841
        },
        "id": "0u2mtndkTLpk",
        "outputId": "d5d253de-4502-42bf-ac89-08e0a7065d85"
      },
      "outputs": [
        {
          "name": "stdout",
          "output_type": "stream",
          "text": [
            "Pipeline dlt_ipykernel_launcher load step completed in 0.56 seconds\n",
            "1 load package(s) were loaded to destination duckdb and into dataset people\n",
            "The duckdb destination used duckdb:///c:\\Users\\Nguyen\\OneDrive\\Documents\\GitHub\\data-engineering-zoomcamp\\cohorts\\2024\\workshops\\dlt_resources\\dlt_ipykernel_launcher.duckdb location to store data\n",
            "Load package 1719120008.784773 is LOADED and contains no failed jobs\n",
            "\n",
            "\n",
            "Pipeline dlt_ipykernel_launcher load step completed in 0.43 seconds\n",
            "1 load package(s) were loaded to destination duckdb and into dataset people\n",
            "The duckdb destination used duckdb:///c:\\Users\\Nguyen\\OneDrive\\Documents\\GitHub\\data-engineering-zoomcamp\\cohorts\\2024\\workshops\\dlt_resources\\dlt_ipykernel_launcher.duckdb location to store data\n",
            "Load package 1719120009.9545898 is LOADED and contains no failed jobs\n",
            "\n",
            "\n",
            "Loaded tables: \n"
          ]
        },
        {
          "data": {
            "text/plain": [
              "┌─────────────────────┐\n",
              "│        name         │\n",
              "│       varchar       │\n",
              "├─────────────────────┤\n",
              "│ _dlt_loads          │\n",
              "│ _dlt_pipeline_state │\n",
              "│ _dlt_version        │\n",
              "│ people              │\n",
              "└─────────────────────┘"
            ]
          },
          "metadata": {},
          "output_type": "display_data"
        },
        {
          "data": {
            "text/html": [
              "<div>\n",
              "<style scoped>\n",
              "    .dataframe tbody tr th:only-of-type {\n",
              "        vertical-align: middle;\n",
              "    }\n",
              "\n",
              "    .dataframe tbody tr th {\n",
              "        vertical-align: top;\n",
              "    }\n",
              "\n",
              "    .dataframe thead th {\n",
              "        text-align: right;\n",
              "    }\n",
              "</style>\n",
              "<table border=\"1\" class=\"dataframe\">\n",
              "  <thead>\n",
              "    <tr style=\"text-align: right;\">\n",
              "      <th></th>\n",
              "      <th>id</th>\n",
              "      <th>name</th>\n",
              "      <th>age</th>\n",
              "      <th>city</th>\n",
              "      <th>_dlt_load_id</th>\n",
              "      <th>_dlt_id</th>\n",
              "      <th>occupation</th>\n",
              "    </tr>\n",
              "  </thead>\n",
              "  <tbody>\n",
              "    <tr>\n",
              "      <th>0</th>\n",
              "      <td>1</td>\n",
              "      <td>Person_1</td>\n",
              "      <td>26</td>\n",
              "      <td>City_A</td>\n",
              "      <td>1719120008.784773</td>\n",
              "      <td>JZxgSwoPztMdFA</td>\n",
              "      <td>None</td>\n",
              "    </tr>\n",
              "    <tr>\n",
              "      <th>1</th>\n",
              "      <td>2</td>\n",
              "      <td>Person_2</td>\n",
              "      <td>27</td>\n",
              "      <td>City_A</td>\n",
              "      <td>1719120008.784773</td>\n",
              "      <td>5JNJOJKfH8rWfg</td>\n",
              "      <td>None</td>\n",
              "    </tr>\n",
              "    <tr>\n",
              "      <th>2</th>\n",
              "      <td>3</td>\n",
              "      <td>Person_3</td>\n",
              "      <td>28</td>\n",
              "      <td>City_A</td>\n",
              "      <td>1719120008.784773</td>\n",
              "      <td>vC/OUdKIc/Ni3g</td>\n",
              "      <td>None</td>\n",
              "    </tr>\n",
              "    <tr>\n",
              "      <th>3</th>\n",
              "      <td>4</td>\n",
              "      <td>Person_4</td>\n",
              "      <td>29</td>\n",
              "      <td>City_A</td>\n",
              "      <td>1719120008.784773</td>\n",
              "      <td>9AIYLJEVP+LrEg</td>\n",
              "      <td>None</td>\n",
              "    </tr>\n",
              "    <tr>\n",
              "      <th>4</th>\n",
              "      <td>5</td>\n",
              "      <td>Person_5</td>\n",
              "      <td>30</td>\n",
              "      <td>City_A</td>\n",
              "      <td>1719120008.784773</td>\n",
              "      <td>SRIv45iTUMeoCw</td>\n",
              "      <td>None</td>\n",
              "    </tr>\n",
              "    <tr>\n",
              "      <th>5</th>\n",
              "      <td>3</td>\n",
              "      <td>Person_3</td>\n",
              "      <td>33</td>\n",
              "      <td>City_B</td>\n",
              "      <td>1719120009.9545898</td>\n",
              "      <td>oOwt1zDBzj6r+Q</td>\n",
              "      <td>Job_3</td>\n",
              "    </tr>\n",
              "    <tr>\n",
              "      <th>6</th>\n",
              "      <td>4</td>\n",
              "      <td>Person_4</td>\n",
              "      <td>34</td>\n",
              "      <td>City_B</td>\n",
              "      <td>1719120009.9545898</td>\n",
              "      <td>CZTB4IbbtN4lRA</td>\n",
              "      <td>Job_4</td>\n",
              "    </tr>\n",
              "    <tr>\n",
              "      <th>7</th>\n",
              "      <td>5</td>\n",
              "      <td>Person_5</td>\n",
              "      <td>35</td>\n",
              "      <td>City_B</td>\n",
              "      <td>1719120009.9545898</td>\n",
              "      <td>PpWhyP2U3L3XsA</td>\n",
              "      <td>Job_5</td>\n",
              "    </tr>\n",
              "    <tr>\n",
              "      <th>8</th>\n",
              "      <td>6</td>\n",
              "      <td>Person_6</td>\n",
              "      <td>36</td>\n",
              "      <td>City_B</td>\n",
              "      <td>1719120009.9545898</td>\n",
              "      <td>c839QfcZiKOKPg</td>\n",
              "      <td>Job_6</td>\n",
              "    </tr>\n",
              "    <tr>\n",
              "      <th>9</th>\n",
              "      <td>7</td>\n",
              "      <td>Person_7</td>\n",
              "      <td>37</td>\n",
              "      <td>City_B</td>\n",
              "      <td>1719120009.9545898</td>\n",
              "      <td>9snsD2lYbOwfqg</td>\n",
              "      <td>Job_7</td>\n",
              "    </tr>\n",
              "    <tr>\n",
              "      <th>10</th>\n",
              "      <td>8</td>\n",
              "      <td>Person_8</td>\n",
              "      <td>38</td>\n",
              "      <td>City_B</td>\n",
              "      <td>1719120009.9545898</td>\n",
              "      <td>eZndhoDEIMA+1w</td>\n",
              "      <td>Job_8</td>\n",
              "    </tr>\n",
              "  </tbody>\n",
              "</table>\n",
              "</div>"
            ],
            "text/plain": [
              "    id      name  age    city        _dlt_load_id         _dlt_id occupation\n",
              "0    1  Person_1   26  City_A   1719120008.784773  JZxgSwoPztMdFA       None\n",
              "1    2  Person_2   27  City_A   1719120008.784773  5JNJOJKfH8rWfg       None\n",
              "2    3  Person_3   28  City_A   1719120008.784773  vC/OUdKIc/Ni3g       None\n",
              "3    4  Person_4   29  City_A   1719120008.784773  9AIYLJEVP+LrEg       None\n",
              "4    5  Person_5   30  City_A   1719120008.784773  SRIv45iTUMeoCw       None\n",
              "5    3  Person_3   33  City_B  1719120009.9545898  oOwt1zDBzj6r+Q      Job_3\n",
              "6    4  Person_4   34  City_B  1719120009.9545898  CZTB4IbbtN4lRA      Job_4\n",
              "7    5  Person_5   35  City_B  1719120009.9545898  PpWhyP2U3L3XsA      Job_5\n",
              "8    6  Person_6   36  City_B  1719120009.9545898  c839QfcZiKOKPg      Job_6\n",
              "9    7  Person_7   37  City_B  1719120009.9545898  9snsD2lYbOwfqg      Job_7\n",
              "10   8  Person_8   38  City_B  1719120009.9545898  eZndhoDEIMA+1w      Job_8"
            ]
          },
          "metadata": {},
          "output_type": "display_data"
        },
        {
          "name": "stdout",
          "output_type": "stream",
          "text": [
            "\n",
            "\n",
            "Sum of ages from generators `people_1()` and `people_2()` combined: 353\n"
          ]
        }
      ],
      "source": [
        "# Importing the DLT library\n",
        "import dlt\n",
        "\n",
        "# Create a DLT pipeline for the first generator `people_1`\n",
        "# The pipeline is set to load data into a DuckDB database with the dataset named 'people'\n",
        "people_1_pipeline = dlt.pipeline(destination='duckdb', dataset_name='people')\n",
        "\n",
        "# Run the pipeline for the first generator, creating or replacing the table 'people'\n",
        "info = people_1_pipeline.run(people_1(),\n",
        "                             table_name=\"people\",\n",
        "                             write_disposition=\"replace\")\n",
        "\n",
        "print(f\"{info}\\n\\n\")\n",
        "\n",
        "\n",
        "# Create a second DLT pipeline for the generator `people_2`, targeting the same DuckDB database and dataset\n",
        "people_2_pipeline = dlt.pipeline(destination='duckdb', dataset_name='people')\n",
        "\n",
        "# Run the second pipeline, appending data from `people_2` to the existing 'people' table\n",
        "info = people_2_pipeline.run(people_2(),\n",
        "                             table_name=\"people\",\n",
        "                             write_disposition=\"append\")\n",
        "\n",
        "print(f\"{info}\\n\\n\")\n",
        "\n",
        "\n",
        "# Importing the DuckDB library\n",
        "import duckdb\n",
        "\n",
        "# Connect to the DuckDB database created by the first generator\n",
        "conn = duckdb.connect(f\"{people_1_pipeline.pipeline_name}.duckdb\")\n",
        "\n",
        "# Setting the search path to the dataset 'people' and displaying available tables\n",
        "conn.sql(f\"SET search_path = '{people_1_pipeline.dataset_name}'\")\n",
        "print('Loaded tables: ')\n",
        "display(conn.sql(\"show tables\"))\n",
        "\n",
        "\n",
        "# Fetching the appended data from the 'people' table and displaying it\n",
        "data = conn.sql(\"SELECT * FROM people\").df()\n",
        "display(data)\n",
        "\n",
        "# Calculate the sum of ages from the combined data of `people_1` and `people_2` in the 'people' table\n",
        "sum_of_ages_p1_p2 = conn.execute(\"SELECT SUM(age) FROM people\").fetchone()[0]\n",
        "print(f\"\\n\\nSum of ages from generators `people_1()` and `people_2()` combined: {sum_of_ages_p1_p2}\")\n"
      ]
    },
    {
      "cell_type": "markdown",
      "metadata": {
        "id": "G-T-jR9qlzdB"
      },
      "source": [
        "## Solution 3: Merge a generator\n",
        "\n",
        "A table's primary key needs to be created from the start, so load your data to a new table with primary key ID.\n",
        "\n",
        "Load your first generator first, and then load the second one with merge. Since they have overlapping IDs, some of the records from the first load should be replaced by the ones from the second load.\n",
        "\n",
        "After loading, you should have a total of 8 records, and ID 3 should have age 33."
      ]
    },
    {
      "cell_type": "code",
      "execution_count": 7,
      "metadata": {
        "colab": {
          "base_uri": "https://localhost:8080/",
          "height": 773
        },
        "id": "rXR-IN85kBtq",
        "outputId": "c74a7ab7-aa77-4445-c2bc-e782054a7201"
      },
      "outputs": [
        {
          "name": "stdout",
          "output_type": "stream",
          "text": [
            "Pipeline dlt_ipykernel_launcher load step completed in 0.28 seconds\n",
            "1 load package(s) were loaded to destination duckdb and into dataset people_merge\n",
            "The duckdb destination used duckdb:///c:\\Users\\Nguyen\\OneDrive\\Documents\\GitHub\\data-engineering-zoomcamp\\cohorts\\2024\\workshops\\dlt_resources\\dlt_ipykernel_launcher.duckdb location to store data\n",
            "Load package 1719120047.788747 is LOADED and contains no failed jobs\n",
            "\n",
            "\n",
            "Pipeline dlt_ipykernel_launcher load step completed in 0.39 seconds\n",
            "1 load package(s) were loaded to destination duckdb and into dataset people_merge\n",
            "The duckdb destination used duckdb:///c:\\Users\\Nguyen\\OneDrive\\Documents\\GitHub\\data-engineering-zoomcamp\\cohorts\\2024\\workshops\\dlt_resources\\dlt_ipykernel_launcher.duckdb location to store data\n",
            "Load package 1719120048.5800364 is LOADED and contains no failed jobs\n",
            "\n",
            "\n",
            "Loaded tables: \n"
          ]
        },
        {
          "data": {
            "text/plain": [
              "┌─────────────────────┐\n",
              "│        name         │\n",
              "│       varchar       │\n",
              "├─────────────────────┤\n",
              "│ _dlt_loads          │\n",
              "│ _dlt_pipeline_state │\n",
              "│ _dlt_version        │\n",
              "│ people_merged       │\n",
              "└─────────────────────┘"
            ]
          },
          "metadata": {},
          "output_type": "display_data"
        },
        {
          "name": "stdout",
          "output_type": "stream",
          "text": [
            "\n",
            "\n",
            "\n",
            "Data from the 'people_merged' table:\n"
          ]
        },
        {
          "data": {
            "text/html": [
              "<div>\n",
              "<style scoped>\n",
              "    .dataframe tbody tr th:only-of-type {\n",
              "        vertical-align: middle;\n",
              "    }\n",
              "\n",
              "    .dataframe tbody tr th {\n",
              "        vertical-align: top;\n",
              "    }\n",
              "\n",
              "    .dataframe thead th {\n",
              "        text-align: right;\n",
              "    }\n",
              "</style>\n",
              "<table border=\"1\" class=\"dataframe\">\n",
              "  <thead>\n",
              "    <tr style=\"text-align: right;\">\n",
              "      <th></th>\n",
              "      <th>id</th>\n",
              "      <th>name</th>\n",
              "      <th>age</th>\n",
              "      <th>city</th>\n",
              "      <th>_dlt_load_id</th>\n",
              "      <th>_dlt_id</th>\n",
              "      <th>occupation</th>\n",
              "    </tr>\n",
              "  </thead>\n",
              "  <tbody>\n",
              "    <tr>\n",
              "      <th>0</th>\n",
              "      <td>1</td>\n",
              "      <td>Person_1</td>\n",
              "      <td>26</td>\n",
              "      <td>City_A</td>\n",
              "      <td>1719120047.788747</td>\n",
              "      <td>FCwL2SmNwLiSDw</td>\n",
              "      <td>None</td>\n",
              "    </tr>\n",
              "    <tr>\n",
              "      <th>1</th>\n",
              "      <td>2</td>\n",
              "      <td>Person_2</td>\n",
              "      <td>27</td>\n",
              "      <td>City_A</td>\n",
              "      <td>1719120047.788747</td>\n",
              "      <td>LSOIUocADZ8REQ</td>\n",
              "      <td>None</td>\n",
              "    </tr>\n",
              "    <tr>\n",
              "      <th>2</th>\n",
              "      <td>3</td>\n",
              "      <td>Person_3</td>\n",
              "      <td>33</td>\n",
              "      <td>City_B</td>\n",
              "      <td>1719120048.5800364</td>\n",
              "      <td>C/2jgBIQDUfluA</td>\n",
              "      <td>Job_3</td>\n",
              "    </tr>\n",
              "    <tr>\n",
              "      <th>3</th>\n",
              "      <td>4</td>\n",
              "      <td>Person_4</td>\n",
              "      <td>34</td>\n",
              "      <td>City_B</td>\n",
              "      <td>1719120048.5800364</td>\n",
              "      <td>Y+GYKFZKVyLzWQ</td>\n",
              "      <td>Job_4</td>\n",
              "    </tr>\n",
              "    <tr>\n",
              "      <th>4</th>\n",
              "      <td>5</td>\n",
              "      <td>Person_5</td>\n",
              "      <td>35</td>\n",
              "      <td>City_B</td>\n",
              "      <td>1719120048.5800364</td>\n",
              "      <td>xF5e8YdPw/F8RA</td>\n",
              "      <td>Job_5</td>\n",
              "    </tr>\n",
              "    <tr>\n",
              "      <th>5</th>\n",
              "      <td>6</td>\n",
              "      <td>Person_6</td>\n",
              "      <td>36</td>\n",
              "      <td>City_B</td>\n",
              "      <td>1719120048.5800364</td>\n",
              "      <td>Yn3oe/3vrmY9tw</td>\n",
              "      <td>Job_6</td>\n",
              "    </tr>\n",
              "    <tr>\n",
              "      <th>6</th>\n",
              "      <td>7</td>\n",
              "      <td>Person_7</td>\n",
              "      <td>37</td>\n",
              "      <td>City_B</td>\n",
              "      <td>1719120048.5800364</td>\n",
              "      <td>w3givw50PT7xcQ</td>\n",
              "      <td>Job_7</td>\n",
              "    </tr>\n",
              "    <tr>\n",
              "      <th>7</th>\n",
              "      <td>8</td>\n",
              "      <td>Person_8</td>\n",
              "      <td>38</td>\n",
              "      <td>City_B</td>\n",
              "      <td>1719120048.5800364</td>\n",
              "      <td>u2kYpB0SAtJ9nw</td>\n",
              "      <td>Job_8</td>\n",
              "    </tr>\n",
              "  </tbody>\n",
              "</table>\n",
              "</div>"
            ],
            "text/plain": [
              "   id      name  age    city        _dlt_load_id         _dlt_id occupation\n",
              "0   1  Person_1   26  City_A   1719120047.788747  FCwL2SmNwLiSDw       None\n",
              "1   2  Person_2   27  City_A   1719120047.788747  LSOIUocADZ8REQ       None\n",
              "2   3  Person_3   33  City_B  1719120048.5800364  C/2jgBIQDUfluA      Job_3\n",
              "3   4  Person_4   34  City_B  1719120048.5800364  Y+GYKFZKVyLzWQ      Job_4\n",
              "4   5  Person_5   35  City_B  1719120048.5800364  xF5e8YdPw/F8RA      Job_5\n",
              "5   6  Person_6   36  City_B  1719120048.5800364  Yn3oe/3vrmY9tw      Job_6\n",
              "6   7  Person_7   37  City_B  1719120048.5800364  w3givw50PT7xcQ      Job_7\n",
              "7   8  Person_8   38  City_B  1719120048.5800364  u2kYpB0SAtJ9nw      Job_8"
            ]
          },
          "metadata": {},
          "output_type": "display_data"
        },
        {
          "name": "stdout",
          "output_type": "stream",
          "text": [
            "\n",
            "\n",
            "Sum of ages of people in generator `people_1()` merged with generator `people_2()` is: 266\n"
          ]
        }
      ],
      "source": [
        "import dlt\n",
        "\n",
        "# Set up a DLT pipeline.\n",
        "# Currently using DuckDB for local testing, but it can be switched to BigQuery for production.\n",
        "generators_pipeline = dlt.pipeline(destination='duckdb', dataset_name='people_merge')\n",
        "\n",
        "# Load data from the first generator `people_1` into 'people_merge' table.\n",
        "# This operation will replace any existing data in the table.\n",
        "# A primary key 'ID' is specified for potential future merge operations.\n",
        "info = generators_pipeline.run(people_1(),\n",
        "                               table_name=\"people_merged\",\n",
        "                               write_disposition=\"replace\",\n",
        "                               primary_key=\"ID\")\n",
        "\n",
        "# Print metadata of the loading process for the first generator.\n",
        "print(f\"{info}\\n\\n\")\n",
        "\n",
        "# Load data from the second generator `people_2` into the same 'people_merge' table.\n",
        "# This operation will merge the new data with existing data based on the primary key 'ID'.\n",
        "info = generators_pipeline.run(people_2(),\n",
        "                               table_name=\"people_merged\",\n",
        "                               write_disposition=\"merge\",\n",
        "                               primary_key=\"ID\")\n",
        "\n",
        "# Print metadata of the loading process for the second generator.\n",
        "print(f\"{info}\\n\\n\")\n",
        "\n",
        "import duckdb\n",
        "\n",
        "# Establish a connection to the DuckDB database created by the pipeline.\n",
        "conn = duckdb.connect(f\"{generators_pipeline.pipeline_name}.duckdb\")\n",
        "\n",
        "# Set the search path to the dataset 'people_merge' and display the available tables.\n",
        "conn.sql(f\"SET search_path = '{generators_pipeline.dataset_name}'\")\n",
        "print('Loaded tables: ')\n",
        "display(conn.sql(\"show tables\"))\n",
        "\n",
        "# Display the merged data from the 'people_merged' table.\n",
        "print(\"\\n\\n\\nData from the 'people_merged' table:\")\n",
        "data = conn.sql(\"SELECT * FROM people_merged ORDER BY name\").df()\n",
        "display(data)\n",
        "\n",
        "# Calculate and display the sum of ages from the merged data in 'people_merged' table.\n",
        "sum_of_ages_p1_p2 = conn.execute(\"SELECT SUM(age) FROM people_merged\").fetchone()[0]\n",
        "print(f\"\\n\\nSum of ages of people in generator `people_1()` merged with generator `people_2()` is: {sum_of_ages_p1_p2}\")\n"
      ]
    },
    {
      "cell_type": "code",
      "execution_count": null,
      "metadata": {
        "id": "TApfkuNKtlt3"
      },
      "outputs": [],
      "source": []
    }
  ],
  "metadata": {
    "colab": {
      "provenance": []
    },
    "kernelspec": {
      "display_name": "Python 3",
      "name": "python3"
    },
    "language_info": {
      "codemirror_mode": {
        "name": "ipython",
        "version": 3
      },
      "file_extension": ".py",
      "mimetype": "text/x-python",
      "name": "python",
      "nbconvert_exporter": "python",
      "pygments_lexer": "ipython3",
      "version": "3.12.0"
    }
  },
  "nbformat": 4,
  "nbformat_minor": 0
}
